{
 "cells": [
  {
   "cell_type": "code",
   "execution_count": 1,
   "metadata": {},
   "outputs": [],
   "source": [
    "import requests\n",
    "from tqdm import tqdm_notebook as tqdm\n",
    "import pandas as pd\n",
    "from matplotlib import pyplot as plt\n",
    "from datetime import datetime"
   ]
  },
  {
   "cell_type": "code",
   "execution_count": 2,
   "metadata": {},
   "outputs": [],
   "source": [
    "%matplotlib inline"
   ]
  },
  {
   "cell_type": "code",
   "execution_count": 3,
   "metadata": {},
   "outputs": [],
   "source": [
    "TOKEN = r'd46da9b4388836c29c2728dcc7cd1dac63de131d'\n",
    "def gh_request(url, *args, **kwargs):\n",
    "    BASE = r'https://api.github.com'\n",
    "    r = requests.get(BASE + url, *args, **kwargs)\n",
    "    if r.status_code != 200 and not int(r.headers['X-RateLimit-Remaining']):\n",
    "        reset = datetime.fromtimestamp(int(r.headers['X-RateLimit-Reset']))\n",
    "        raise requests.HTTPError('Rate limit exceeded! Blocked until {}'.format(reset))\n",
    "    r.raise_for_status()\n",
    "    return r"
   ]
  },
  {
   "cell_type": "code",
   "execution_count": 4,
   "metadata": {},
   "outputs": [],
   "source": [
    "def repos(owner):\n",
    "    return gh_request('/users/{}/repos'.format(owner)).json()\n",
    "\n",
    "def views_and_clones(owner, repo, **kw):\n",
    "    views = gh_request('/repos/{}/{}/traffic/views'.format(owner, repo), **kw).json()\n",
    "    clones = gh_request('/repos/{}/{}/traffic/clones'.format(owner, repo), **kw).json()\n",
    "    releases = gh_request('/repos/{}/{}/releases'.format(owner, repo)).json()\n",
    "    downloads = 0\n",
    "    for release in releases:\n",
    "        for asset in release['assets']:\n",
    "            downloads += asset['download_count']\n",
    "    return views['count'], clones['count'], downloads\n",
    "\n",
    "def anaconda_downloads(owner, package, **kw):\n",
    "    r = requests.get('https://api.anaconda.org/package/{}/{}'.format(owner, package))\n",
    "    if r.status_code != 200:\n",
    "        return 0\n",
    "    downloads = 0\n",
    "    for f in r.json()['files']:\n",
    "        downloads += f['ndownloads']\n",
    "    return downloads\n",
    "\n",
    "def stats(owner, **kw):\n",
    "    data = {}\n",
    "    for repo in tqdm(repos(owner)):\n",
    "        repo_owner = repo['owner']['login']\n",
    "        repo_name = repo['name']\n",
    "        stars = repo['stargazers_count']\n",
    "        forks = repo['forks_count']\n",
    "        anaconda_dl = anaconda_downloads(repo_owner, repo_name)\n",
    "        views, clones, gh_downloads = views_and_clones(repo_owner, repo_name, **kw)\n",
    "        data[repo_name] = {\n",
    "            'GitHub Stars': stars,\n",
    "            'GitHub Clones': clones,\n",
    "            'GitHub Forks': forks,\n",
    "            'GitHub Visits': views,\n",
    "            'GitHub Downloads': gh_downloads,\n",
    "            'Conda Installations': anaconda_dl,\n",
    "            'PyPI Installations': 0,\n",
    "            'WebApp Users': 0,\n",
    "        }\n",
    "    return data"
   ]
  },
  {
   "cell_type": "code",
   "execution_count": 5,
   "metadata": {},
   "outputs": [
    {
     "data": {
      "application/vnd.jupyter.widget-view+json": {
       "model_id": "3548ca201d024dd8813815551f7ad8da",
       "version_major": 2,
       "version_minor": 0
      },
      "text/plain": [
       "HBox(children=(IntProgress(value=0, max=26), HTML(value='')))"
      ]
     },
     "metadata": {},
     "output_type": "display_data"
    },
    {
     "ename": "HTTPError",
     "evalue": "Rate limit exceeded! Blocked until 2018-07-16 18:49:25",
     "output_type": "error",
     "traceback": [
      "\u001b[0;31m---------------------------------------------------------------------------\u001b[0m",
      "\u001b[0;31mHTTPError\u001b[0m                                 Traceback (most recent call last)",
      "\u001b[0;32m<ipython-input-5-b4934cd8fcb7>\u001b[0m in \u001b[0;36m<module>\u001b[0;34m()\u001b[0m\n\u001b[0;32m----> 1\u001b[0;31m \u001b[0minsilichem_stats\u001b[0m \u001b[0;34m=\u001b[0m \u001b[0mstats\u001b[0m\u001b[0;34m(\u001b[0m\u001b[0;34m'insilichem'\u001b[0m\u001b[0;34m,\u001b[0m  \u001b[0mauth\u001b[0m\u001b[0;34m=\u001b[0m\u001b[0;34m(\u001b[0m\u001b[0;34m'jaimergp'\u001b[0m\u001b[0;34m,\u001b[0m \u001b[0mTOKEN\u001b[0m\u001b[0;34m)\u001b[0m\u001b[0;34m)\u001b[0m\u001b[0;34m\u001b[0m\u001b[0m\n\u001b[0m\u001b[1;32m      2\u001b[0m \u001b[0mjaimergp_stats\u001b[0m \u001b[0;34m=\u001b[0m \u001b[0mstats\u001b[0m\u001b[0;34m(\u001b[0m\u001b[0;34m'jaimergp'\u001b[0m\u001b[0;34m,\u001b[0m \u001b[0mauth\u001b[0m\u001b[0;34m=\u001b[0m\u001b[0;34m(\u001b[0m\u001b[0;34m'jaimergp'\u001b[0m\u001b[0;34m,\u001b[0m \u001b[0mTOKEN\u001b[0m\u001b[0;34m)\u001b[0m\u001b[0;34m)\u001b[0m\u001b[0;34m\u001b[0m\u001b[0m\n",
      "\u001b[0;32m<ipython-input-4-af89646f226a>\u001b[0m in \u001b[0;36mstats\u001b[0;34m(owner, **kw)\u001b[0m\n\u001b[1;32m     29\u001b[0m         \u001b[0mforks\u001b[0m \u001b[0;34m=\u001b[0m \u001b[0mrepo\u001b[0m\u001b[0;34m[\u001b[0m\u001b[0;34m'forks_count'\u001b[0m\u001b[0;34m]\u001b[0m\u001b[0;34m\u001b[0m\u001b[0m\n\u001b[1;32m     30\u001b[0m         \u001b[0manaconda_dl\u001b[0m \u001b[0;34m=\u001b[0m \u001b[0manaconda_downloads\u001b[0m\u001b[0;34m(\u001b[0m\u001b[0mrepo_owner\u001b[0m\u001b[0;34m,\u001b[0m \u001b[0mrepo_name\u001b[0m\u001b[0;34m)\u001b[0m\u001b[0;34m\u001b[0m\u001b[0m\n\u001b[0;32m---> 31\u001b[0;31m         \u001b[0mviews\u001b[0m\u001b[0;34m,\u001b[0m \u001b[0mclones\u001b[0m\u001b[0;34m,\u001b[0m \u001b[0mgh_downloads\u001b[0m \u001b[0;34m=\u001b[0m \u001b[0mviews_and_clones\u001b[0m\u001b[0;34m(\u001b[0m\u001b[0mrepo_owner\u001b[0m\u001b[0;34m,\u001b[0m \u001b[0mrepo_name\u001b[0m\u001b[0;34m,\u001b[0m \u001b[0;34m**\u001b[0m\u001b[0mkw\u001b[0m\u001b[0;34m)\u001b[0m\u001b[0;34m\u001b[0m\u001b[0m\n\u001b[0m\u001b[1;32m     32\u001b[0m         data[repo_name] = {\n\u001b[1;32m     33\u001b[0m             \u001b[0;34m'GitHub Stars'\u001b[0m\u001b[0;34m:\u001b[0m \u001b[0mstars\u001b[0m\u001b[0;34m,\u001b[0m\u001b[0;34m\u001b[0m\u001b[0m\n",
      "\u001b[0;32m<ipython-input-4-af89646f226a>\u001b[0m in \u001b[0;36mviews_and_clones\u001b[0;34m(owner, repo, **kw)\u001b[0m\n\u001b[1;32m      5\u001b[0m     \u001b[0mviews\u001b[0m \u001b[0;34m=\u001b[0m \u001b[0mgh_request\u001b[0m\u001b[0;34m(\u001b[0m\u001b[0;34m'/repos/{}/{}/traffic/views'\u001b[0m\u001b[0;34m.\u001b[0m\u001b[0mformat\u001b[0m\u001b[0;34m(\u001b[0m\u001b[0mowner\u001b[0m\u001b[0;34m,\u001b[0m \u001b[0mrepo\u001b[0m\u001b[0;34m)\u001b[0m\u001b[0;34m,\u001b[0m \u001b[0;34m**\u001b[0m\u001b[0mkw\u001b[0m\u001b[0;34m)\u001b[0m\u001b[0;34m.\u001b[0m\u001b[0mjson\u001b[0m\u001b[0;34m(\u001b[0m\u001b[0;34m)\u001b[0m\u001b[0;34m\u001b[0m\u001b[0m\n\u001b[1;32m      6\u001b[0m     \u001b[0mclones\u001b[0m \u001b[0;34m=\u001b[0m \u001b[0mgh_request\u001b[0m\u001b[0;34m(\u001b[0m\u001b[0;34m'/repos/{}/{}/traffic/clones'\u001b[0m\u001b[0;34m.\u001b[0m\u001b[0mformat\u001b[0m\u001b[0;34m(\u001b[0m\u001b[0mowner\u001b[0m\u001b[0;34m,\u001b[0m \u001b[0mrepo\u001b[0m\u001b[0;34m)\u001b[0m\u001b[0;34m,\u001b[0m \u001b[0;34m**\u001b[0m\u001b[0mkw\u001b[0m\u001b[0;34m)\u001b[0m\u001b[0;34m.\u001b[0m\u001b[0mjson\u001b[0m\u001b[0;34m(\u001b[0m\u001b[0;34m)\u001b[0m\u001b[0;34m\u001b[0m\u001b[0m\n\u001b[0;32m----> 7\u001b[0;31m     \u001b[0mreleases\u001b[0m \u001b[0;34m=\u001b[0m \u001b[0mgh_request\u001b[0m\u001b[0;34m(\u001b[0m\u001b[0;34m'/repos/{}/{}/releases'\u001b[0m\u001b[0;34m.\u001b[0m\u001b[0mformat\u001b[0m\u001b[0;34m(\u001b[0m\u001b[0mowner\u001b[0m\u001b[0;34m,\u001b[0m \u001b[0mrepo\u001b[0m\u001b[0;34m)\u001b[0m\u001b[0;34m)\u001b[0m\u001b[0;34m.\u001b[0m\u001b[0mjson\u001b[0m\u001b[0;34m(\u001b[0m\u001b[0;34m)\u001b[0m\u001b[0;34m\u001b[0m\u001b[0m\n\u001b[0m\u001b[1;32m      8\u001b[0m     \u001b[0mdownloads\u001b[0m \u001b[0;34m=\u001b[0m \u001b[0;36m0\u001b[0m\u001b[0;34m\u001b[0m\u001b[0m\n\u001b[1;32m      9\u001b[0m     \u001b[0;32mfor\u001b[0m \u001b[0mrelease\u001b[0m \u001b[0;32min\u001b[0m \u001b[0mreleases\u001b[0m\u001b[0;34m:\u001b[0m\u001b[0;34m\u001b[0m\u001b[0m\n",
      "\u001b[0;32m<ipython-input-3-2b977ec79921>\u001b[0m in \u001b[0;36mgh_request\u001b[0;34m(url, *args, **kwargs)\u001b[0m\n\u001b[1;32m      5\u001b[0m     \u001b[0;32mif\u001b[0m \u001b[0mr\u001b[0m\u001b[0;34m.\u001b[0m\u001b[0mstatus_code\u001b[0m \u001b[0;34m!=\u001b[0m \u001b[0;36m200\u001b[0m \u001b[0;32mand\u001b[0m \u001b[0;32mnot\u001b[0m \u001b[0mint\u001b[0m\u001b[0;34m(\u001b[0m\u001b[0mr\u001b[0m\u001b[0;34m.\u001b[0m\u001b[0mheaders\u001b[0m\u001b[0;34m[\u001b[0m\u001b[0;34m'X-RateLimit-Remaining'\u001b[0m\u001b[0;34m]\u001b[0m\u001b[0;34m)\u001b[0m\u001b[0;34m:\u001b[0m\u001b[0;34m\u001b[0m\u001b[0m\n\u001b[1;32m      6\u001b[0m         \u001b[0mreset\u001b[0m \u001b[0;34m=\u001b[0m \u001b[0mdatetime\u001b[0m\u001b[0;34m.\u001b[0m\u001b[0mfromtimestamp\u001b[0m\u001b[0;34m(\u001b[0m\u001b[0mint\u001b[0m\u001b[0;34m(\u001b[0m\u001b[0mr\u001b[0m\u001b[0;34m.\u001b[0m\u001b[0mheaders\u001b[0m\u001b[0;34m[\u001b[0m\u001b[0;34m'X-RateLimit-Reset'\u001b[0m\u001b[0;34m]\u001b[0m\u001b[0;34m)\u001b[0m\u001b[0;34m)\u001b[0m\u001b[0;34m\u001b[0m\u001b[0m\n\u001b[0;32m----> 7\u001b[0;31m         \u001b[0;32mraise\u001b[0m \u001b[0mrequests\u001b[0m\u001b[0;34m.\u001b[0m\u001b[0mHTTPError\u001b[0m\u001b[0;34m(\u001b[0m\u001b[0;34m'Rate limit exceeded! Blocked until {}'\u001b[0m\u001b[0;34m.\u001b[0m\u001b[0mformat\u001b[0m\u001b[0;34m(\u001b[0m\u001b[0mreset\u001b[0m\u001b[0;34m)\u001b[0m\u001b[0;34m)\u001b[0m\u001b[0;34m\u001b[0m\u001b[0m\n\u001b[0m\u001b[1;32m      8\u001b[0m     \u001b[0mr\u001b[0m\u001b[0;34m.\u001b[0m\u001b[0mraise_for_status\u001b[0m\u001b[0;34m(\u001b[0m\u001b[0;34m)\u001b[0m\u001b[0;34m\u001b[0m\u001b[0m\n\u001b[1;32m      9\u001b[0m     \u001b[0;32mreturn\u001b[0m \u001b[0mr\u001b[0m\u001b[0;34m\u001b[0m\u001b[0m\n",
      "\u001b[0;31mHTTPError\u001b[0m: Rate limit exceeded! Blocked until 2018-07-16 18:49:25"
     ]
    }
   ],
   "source": [
    "insilichem_stats = stats('insilichem',  auth=('jaimergp', TOKEN))\n",
    "jaimergp_stats = stats('jaimergp', auth=('jaimergp', TOKEN))"
   ]
  },
  {
   "cell_type": "markdown",
   "metadata": {},
   "source": [
    "# PyPI installations\n",
    "\n",
    "Those must be obtained through (paid) Google Query, with the help of pypinfo\n",
    "\n",
    "```\n",
    "    > pypinfo --days 1000 --pip pychimera                          (base) 1.1m\n",
    "    Served from cache: False\n",
    "    Data processed: 255.49 GiB\n",
    "    Data billed: 255.50 GiB\n",
    "    Estimated cost: $1.25\n",
    "\n",
    "    | download_count |\n",
    "    | -------------- |\n",
    "    |            435 |\n",
    "\n",
    "    > pypinfo --days 1000 --pip ommprotocol                       (base) 39.5s\n",
    "    Served from cache: False\n",
    "    Data processed: 255.49 GiB\n",
    "    Data billed: 255.50 GiB\n",
    "    Estimated cost: $1.25\n",
    "\n",
    "    | download_count |\n",
    "    | -------------- |\n",
    "    |             76 |\n",
    "\n",
    "    > pypinfo --days 1000 --pip esigen                            (base) 40.4s\n",
    "    Served from cache: False\n",
    "    Data processed: 255.49 GiB\n",
    "    Data billed: 255.50 GiB\n",
    "    Estimated cost: $1.25\n",
    "\n",
    "    | download_count |\n",
    "    | -------------- |\n",
    "    |             15 |\n",
    "\n",
    "```"
   ]
  },
  {
   "cell_type": "code",
   "execution_count": null,
   "metadata": {},
   "outputs": [],
   "source": [
    "insilichem_stats['easymecp'] = jaimergp_stats['easymecp']\n",
    "insilichem_stats['pychimera']['PyPI Installations'] = 435\n",
    "insilichem_stats['ommprotocol']['PyPI Installations'] = 76\n",
    "insilichem_stats['esigen']['PyPI Installations'] = 15\n",
    "insilichem_stats['esigen']['WebApp Users'] = 88  # From Google Analytics unique views to /configure URL"
   ]
  },
  {
   "cell_type": "code",
   "execution_count": null,
   "metadata": {},
   "outputs": [],
   "source": [
    "df_raw_all = pd.DataFrame.from_dict(insilichem_stats, orient='index')\n",
    "df_raw_all"
   ]
  },
  {
   "cell_type": "code",
   "execution_count": null,
   "metadata": {},
   "outputs": [],
   "source": [
    "dfT = df_raw.T\n",
    "for col in dfT:\n",
    "    if col.startswith('tangram_'):\n",
    "        dfT['tangram'] += dfT[col]"
   ]
  },
  {
   "cell_type": "code",
   "execution_count": null,
   "metadata": {},
   "outputs": [],
   "source": [
    "for col in dfT:\n",
    "    if col.startswith('tangram_'):\n",
    "        dfT.drop(col, axis=1)\n"
   ]
  },
  {
   "cell_type": "code",
   "execution_count": null,
   "metadata": {},
   "outputs": [],
   "source": [
    "dfTT = dfT.T"
   ]
  },
  {
   "cell_type": "code",
   "execution_count": null,
   "metadata": {},
   "outputs": [],
   "source": [
    "df_raw = dfTT"
   ]
  },
  {
   "cell_type": "code",
   "execution_count": null,
   "metadata": {},
   "outputs": [],
   "source": []
  },
  {
   "cell_type": "code",
   "execution_count": null,
   "metadata": {},
   "outputs": [],
   "source": [
    "df = pd.DataFrame()\n",
    "df['Code Impact'] = sum(df_raw[k] for k in ('GitHub Stars', 'GitHub Forks', 'GitHub Visits'))\n",
    "df['Installations'] = sum(df_raw[k] for k in ('Conda Installations', 'PyPI Installations', 'WebApp Users', 'GitHub Clones', 'GitHub Downloads'))\n",
    "df['sum'] = df.T.sum()\n",
    "df.sort_values('sum', ascending=False, inplace=True)\n",
    "df"
   ]
  },
  {
   "cell_type": "code",
   "execution_count": null,
   "metadata": {},
   "outputs": [],
   "source": [
    "df2 = df[[((i not in ('libtangram', 'gaudiview', 'scripts', 'gaudinspect', 'insilichem.github.io', 'conda-recipes')) \n",
    "            and not i.startswith('tangram_')) for i in df2.index.values]]"
   ]
  },
  {
   "cell_type": "code",
   "execution_count": null,
   "metadata": {},
   "outputs": [],
   "source": [
    "df2"
   ]
  },
  {
   "cell_type": "code",
   "execution_count": null,
   "metadata": {},
   "outputs": [],
   "source": [
    "p = df2.drop('sum', axis=1).plot.bar(figsize=(30,15), fontsize=25, stacked=True)\n",
    "p.legend(fontsize=25)\n",
    "p"
   ]
  },
  {
   "cell_type": "code",
   "execution_count": null,
   "metadata": {},
   "outputs": [],
   "source": [
    "p.figure.savefig('ghstats.pdf', bbox_inches='tight')"
   ]
  },
  {
   "cell_type": "code",
   "execution_count": null,
   "metadata": {},
   "outputs": [],
   "source": []
  }
 ],
 "metadata": {
  "kernelspec": {
   "display_name": "Python 3",
   "language": "python",
   "name": "python3"
  },
  "language_info": {
   "codemirror_mode": {
    "name": "ipython",
    "version": 3
   },
   "file_extension": ".py",
   "mimetype": "text/x-python",
   "name": "python",
   "nbconvert_exporter": "python",
   "pygments_lexer": "ipython3",
   "version": "3.6.5"
  }
 },
 "nbformat": 4,
 "nbformat_minor": 2
}
